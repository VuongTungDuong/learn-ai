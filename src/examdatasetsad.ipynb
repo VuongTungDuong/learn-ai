{
 "cells": [
  {
   "cell_type": "markdown",
   "metadata": {},
   "source": [
    "# Start ExamDataSetsAD"
   ]
  },
  {
   "cell_type": "code",
   "execution_count": 78,
   "metadata": {},
   "outputs": [
    {
     "data": {
      "text/html": [
       "<div>\n",
       "<style scoped>\n",
       "    .dataframe tbody tr th:only-of-type {\n",
       "        vertical-align: middle;\n",
       "    }\n",
       "\n",
       "    .dataframe tbody tr th {\n",
       "        vertical-align: top;\n",
       "    }\n",
       "\n",
       "    .dataframe thead th {\n",
       "        text-align: right;\n",
       "    }\n",
       "</style>\n",
       "<table border=\"1\" class=\"dataframe\">\n",
       "  <thead>\n",
       "    <tr style=\"text-align: right;\">\n",
       "      <th></th>\n",
       "      <th>Day</th>\n",
       "      <th>Hours</th>\n",
       "      <th>Pass</th>\n",
       "    </tr>\n",
       "  </thead>\n",
       "  <tbody>\n",
       "    <tr>\n",
       "      <th>0</th>\n",
       "      <td>9.0</td>\n",
       "      <td>2.0</td>\n",
       "      <td>0</td>\n",
       "    </tr>\n",
       "    <tr>\n",
       "      <th>1</th>\n",
       "      <td>12.0</td>\n",
       "      <td>5.0</td>\n",
       "      <td>0</td>\n",
       "    </tr>\n",
       "    <tr>\n",
       "      <th>2</th>\n",
       "      <td>13.0</td>\n",
       "      <td>19.0</td>\n",
       "      <td>1</td>\n",
       "    </tr>\n",
       "    <tr>\n",
       "      <th>3</th>\n",
       "      <td>9.0</td>\n",
       "      <td>5.0</td>\n",
       "      <td>0</td>\n",
       "    </tr>\n",
       "    <tr>\n",
       "      <th>4</th>\n",
       "      <td>11.0</td>\n",
       "      <td>5.0</td>\n",
       "      <td>0</td>\n",
       "    </tr>\n",
       "  </tbody>\n",
       "</table>\n",
       "</div>"
      ],
      "text/plain": [
       "    Day  Hours  Pass\n",
       "0   9.0    2.0     0\n",
       "1  12.0    5.0     0\n",
       "2  13.0   19.0     1\n",
       "3   9.0    5.0     0\n",
       "4  11.0    5.0     0"
      ]
     },
     "execution_count": 78,
     "metadata": {},
     "output_type": "execute_result"
    }
   ],
   "source": [
    "import numpy as np\n",
    "import pandas as pd\n",
    "from typing import Any\n",
    "from numpy import dtype, floating, ndarray\n",
    "\n",
    "from sklearn.linear_model import LogisticRegression\n",
    "from sklearn.neural_network import MLPClassifier\n",
    "from typing_extensions import TypedDict\n",
    "\n",
    "\n",
    "data = pd.read_csv(r'./csv/ExamTest.csv')\n",
    "data.head()"
   ]
  },
  {
   "cell_type": "code",
   "execution_count": 79,
   "metadata": {},
   "outputs": [
    {
     "name": "stdout",
     "output_type": "stream",
     "text": [
      "<class 'pandas.core.frame.DataFrame'>\n",
      "RangeIndex: 111 entries, 0 to 110\n",
      "Data columns (total 3 columns):\n",
      " #   Column  Non-Null Count  Dtype  \n",
      "---  ------  --------------  -----  \n",
      " 0   Day     111 non-null    float64\n",
      " 1   Hours   111 non-null    float64\n",
      " 2   Pass    111 non-null    int64  \n",
      "dtypes: float64(2), int64(1)\n",
      "memory usage: 2.7 KB\n"
     ]
    }
   ],
   "source": [
    "data.info()"
   ]
  },
  {
   "cell_type": "code",
   "execution_count": 80,
   "metadata": {},
   "outputs": [
    {
     "data": {
      "text/plain": [
       "Index(['Day', 'Hours', 'Pass'], dtype='object')"
      ]
     },
     "execution_count": 80,
     "metadata": {},
     "output_type": "execute_result"
    }
   ],
   "source": [
    "data.columns"
   ]
  },
  {
   "cell_type": "code",
   "execution_count": 81,
   "metadata": {},
   "outputs": [
    {
     "data": {
      "text/html": [
       "<div>\n",
       "<style scoped>\n",
       "    .dataframe tbody tr th:only-of-type {\n",
       "        vertical-align: middle;\n",
       "    }\n",
       "\n",
       "    .dataframe tbody tr th {\n",
       "        vertical-align: top;\n",
       "    }\n",
       "\n",
       "    .dataframe thead th {\n",
       "        text-align: right;\n",
       "    }\n",
       "</style>\n",
       "<table border=\"1\" class=\"dataframe\">\n",
       "  <thead>\n",
       "    <tr style=\"text-align: right;\">\n",
       "      <th></th>\n",
       "      <th>Day</th>\n",
       "      <th>Hours</th>\n",
       "      <th>Pass</th>\n",
       "    </tr>\n",
       "  </thead>\n",
       "  <tbody>\n",
       "    <tr>\n",
       "      <th>count</th>\n",
       "      <td>111.000000</td>\n",
       "      <td>111.000000</td>\n",
       "      <td>111.000000</td>\n",
       "    </tr>\n",
       "    <tr>\n",
       "      <th>mean</th>\n",
       "      <td>12.594595</td>\n",
       "      <td>12.963964</td>\n",
       "      <td>0.531532</td>\n",
       "    </tr>\n",
       "    <tr>\n",
       "      <th>std</th>\n",
       "      <td>3.812368</td>\n",
       "      <td>7.796185</td>\n",
       "      <td>0.501268</td>\n",
       "    </tr>\n",
       "    <tr>\n",
       "      <th>min</th>\n",
       "      <td>4.000000</td>\n",
       "      <td>1.000000</td>\n",
       "      <td>0.000000</td>\n",
       "    </tr>\n",
       "    <tr>\n",
       "      <th>25%</th>\n",
       "      <td>10.000000</td>\n",
       "      <td>5.000000</td>\n",
       "      <td>0.000000</td>\n",
       "    </tr>\n",
       "    <tr>\n",
       "      <th>50%</th>\n",
       "      <td>12.000000</td>\n",
       "      <td>16.000000</td>\n",
       "      <td>1.000000</td>\n",
       "    </tr>\n",
       "    <tr>\n",
       "      <th>75%</th>\n",
       "      <td>15.500000</td>\n",
       "      <td>20.000000</td>\n",
       "      <td>1.000000</td>\n",
       "    </tr>\n",
       "    <tr>\n",
       "      <th>max</th>\n",
       "      <td>22.000000</td>\n",
       "      <td>26.000000</td>\n",
       "      <td>1.000000</td>\n",
       "    </tr>\n",
       "  </tbody>\n",
       "</table>\n",
       "</div>"
      ],
      "text/plain": [
       "              Day       Hours        Pass\n",
       "count  111.000000  111.000000  111.000000\n",
       "mean    12.594595   12.963964    0.531532\n",
       "std      3.812368    7.796185    0.501268\n",
       "min      4.000000    1.000000    0.000000\n",
       "25%     10.000000    5.000000    0.000000\n",
       "50%     12.000000   16.000000    1.000000\n",
       "75%     15.500000   20.000000    1.000000\n",
       "max     22.000000   26.000000    1.000000"
      ]
     },
     "execution_count": 81,
     "metadata": {},
     "output_type": "execute_result"
    }
   ],
   "source": [
    "data.describe()"
   ]
  },
  {
   "cell_type": "markdown",
   "metadata": {},
   "source": [
    "data.describe() cung cấp thông tin thống kê mô tả\n",
    "\n",
    "Day:\n",
    "Số ngày học trung bình của tất cả các học sinh là khoảng 12.59, với độ lệch chuẩn là 3.8. Điều này có nghĩa là hầu hết các học sinh đều có số ngày học trung bình quanh mức này, nhưng có thể có sự thay đổi khoảng 3.8\n",
    "\n",
    "Số ngày học it nhất là 4 và dài nhất là 22.\n",
    "\n",
    "Các phân vị 25%, 75% cho biết 50% số học sinh có số ngày học từ 10 đến 12.5\n",
    "\n",
    "Tương tự với các cột còn lại\n"
   ]
  },
  {
   "cell_type": "code",
   "execution_count": 82,
   "metadata": {},
   "outputs": [
    {
     "data": {
      "text/plain": [
       "np.int64(0)"
      ]
     },
     "execution_count": 82,
     "metadata": {},
     "output_type": "execute_result"
    }
   ],
   "source": [
    "data.duplicated().sum()"
   ]
  },
  {
   "cell_type": "code",
   "execution_count": 83,
   "metadata": {},
   "outputs": [
    {
     "data": {
      "text/plain": [
       "Pass\n",
       "1    59\n",
       "0    52\n",
       "Name: count, dtype: int64"
      ]
     },
     "execution_count": 83,
     "metadata": {},
     "output_type": "execute_result"
    }
   ],
   "source": [
    "data[\"Pass\"].value_counts()"
   ]
  },
  {
   "cell_type": "code",
   "execution_count": 84,
   "metadata": {},
   "outputs": [
    {
     "data": {
      "image/png": "[encoded data removed]",
      "text/plain": [
       "<Figure size 640x480 with 1 Axes>"
      ]
     },
     "metadata": {},
     "output_type": "display_data"
    }
   ],
   "source": [
    "from matplotlib import pyplot as plt\n",
    "import seaborn as sns\n",
    "\n",
    "\n",
    "plt.xlabel('Pass')\n",
    "plt.ylabel('Count')\n",
    "plt.title(\"Count of Pass\")\n",
    "sns.countplot(data=data, x='Pass')\n",
    "plt.show()"
   ]
  },
  {
   "cell_type": "code",
   "execution_count": 85,
   "metadata": {},
   "outputs": [
    {
     "data": {
      "text/plain": [
       "<seaborn.axisgrid.PairGrid at 0x23576c77920>"
      ]
     },
     "execution_count": 85,
     "metadata": {},
     "output_type": "execute_result"
    },
    {
     "data": {
      "image/png": "[encoded data removed]",
      "text/plain": [
       "<Figure size 563.5x500 with 6 Axes>"
      ]
     },
     "metadata": {},
     "output_type": "display_data"
    }
   ],
   "source": [
    "sns.set_style(style='white')\n",
    "g = sns.PairGrid(data=data, hue=\"Pass\")\n",
    "g.map_diag(sns.histplot, kde=True, bins=12)\n",
    "g.map_offdiag(sns.scatterplot)\n",
    "g.add_legend()"
   ]
  },
  {
   "cell_type": "markdown",
   "metadata": {},
   "source": [
    "sử dụng Seaborn để tạo một lưới biểu đồ (PairGrid):\n",
    "\n",
    "sns.set_style(style=\"white\"): Thiết lập kiểu dáng cho biểu đồ là \"white\", giúp nền của biểu đồ sáng và dễ nhìn hơn.\n",
    "g = sns.PairGrid(data=data, hue=\"Pass\"): Tạo một lưới biểu đồ (PairGrid) để hiển thị mối quan hệ giữa tất cả các cặp biến trong DataFrame data.\n",
    "data=data: Chỉ định DataFrame chứa dữ liệu.\n",
    "hue=\"Pass\": Phân loại dữ liệu theo cột \"Pass\", cho phép thấy sự khác biệt giữa các lớp (pass và non-pass) trên biểu đồ.\n",
    "g.map_diag(sns.histplot, kde=True, bins=12):\n",
    "Vẽ biểu đồ histogram cho các biến ở trên đường chéo (diagonal) của lưới, sử dụng hàm histplot.\n",
    "\n",
    "kde=True: Thêm đường phân phối (Kernel Density Estimate) vào histogram, giúp thấy phân bố của dữ liệu rõ hơn.\n",
    "\n",
    "bins=12: Số lượng bins (khung) cho histogram là 12.\n",
    "\n",
    "g.map_offdiag(sns.scatterplot):\n",
    "Vẽ biểu đồ phân tán (scatter plots) cho các cặp biến không nằm trên đường chéo (off-diagonal) của lưới, giúp thấy mối quan hệ giữa các biến."
   ]
  },
  {
   "cell_type": "markdown",
   "metadata": {},
   "source": [
    "## 1.2 Preprocessing"
   ]
  },
  {
   "cell_type": "code",
   "execution_count": 86,
   "metadata": {},
   "outputs": [],
   "source": [
    "df = data.to_numpy()"
   ]
  },
  {
   "cell_type": "code",
   "execution_count": 87,
   "metadata": {},
   "outputs": [
    {
     "name": "stdout",
     "output_type": "stream",
     "text": [
      "(88, 2) (23, 2)\n",
      "(88,) (23,)\n"
     ]
    }
   ],
   "source": [
    "from typing import List\n",
    "from sklearn.model_selection import train_test_split\n",
    "\n",
    "def t() -> List[ndarray]:\n",
    "  return train_test_split(df[:,0:2] , df[:, -1] , test_size=0.2, stratify=df[:,-1], random_state=123)\n",
    "\n",
    "X_test, X_train , y_test , y_train =t()\n",
    "\n",
    "print(X_test.shape , X_train.shape)\n",
    "print(y_test.shape, y_train.shape)"
   ]
  },
  {
   "cell_type": "code",
   "execution_count": 88,
   "metadata": {},
   "outputs": [],
   "source": [
    "from sklearn.discriminant_analysis import StandardScaler\n",
    "\n",
    "\n",
    "scaler = StandardScaler()\n",
    "X_train = scaler.fit_transform(X_train)\n",
    "X_test = scaler.transform(X_test)"
   ]
  },
  {
   "cell_type": "markdown",
   "metadata": {},
   "source": [
    "scaler = StandardScaler(): Tạo một đối tượng StandardScaler từ thư viện scikit-learn. StandardScaler được sử dụng để chuẩn hóa (normalize) dữ liệu, giúp đưa các đặc trưng về cùng một quy mô. Phương pháp chuẩn hóa này sẽ trừ đi giá trị trung bình và chia cho độ lệch chuẩn, biến đổi dữ liệu sao cho có trung bình bằng 0 và độ lệch chuẩn bằng 1.\n",
    "X_train = scaler.fit_transform(X_train): Phương thức fit_transform sẽ tính toán các tham số chuẩn hóa (giá trị trung bình và độ lệch chuẩn) từ tập dữ liệu huấn luyện (X_train) và áp dụng biến đổi đó lên X_train. Kết quả là X_train sẽ được chuẩn hóa.\n",
    "X_test = scaler.transform(X_test): Phương thức transform sẽ sử dụng các tham số đã được tính toán từ tập huấn luyện để chuẩn hóa dữ liệu trong tập kiểm tra (X_test). Điều này đảm bảo rằng dữ liệu kiểm tra được chuẩn hóa theo cùng một quy trình như dữ liệu huấn luyện, giúp mô hình có thể hoạt động chính xác hơn khi dự đoán.\n",
    " "
   ]
  },
  {
   "cell_type": "markdown",
   "metadata": {},
   "source": [
    "# Model training and Evaluation"
   ]
  },
  {
   "cell_type": "markdown",
   "metadata": {},
   "source": [
    "Có nhiều mô hình phân loại có thể giải quyết bài toán, ví dụ: logistic, mulilayer perceptrons, nhưng chua biết rõ hiệu suất mô hình nào sẽ tốt hơn cho bộ data này. Vì vậy, cần kiểm thử cả 2 mô hình (kèm theo cả tinh chỉnh siêu tham số cho mô hình) để chọn ra mô hình có hiệu năng tôt nhất\n"
   ]
  },
  {
   "cell_type": "markdown",
   "metadata": {},
   "source": [
    "Cross-validation giúp đảm bảo rằng mô hình không bị quá khớp (overfitting) hoặc thiếu khớp (underfitting) bằng cách đánh giá mô hình trên các tập con khác nhau của dữ liệu huấn luyện."
   ]
  },
  {
   "cell_type": "markdown",
   "metadata": {},
   "source": [
    "Trong GridSearchCV, cross-validation được thực hiện tự động cho mỗi tổ hợp siêu tham số.GridSearchCV sẽ hoạt động như sau:\n",
    "\n",
    "Xác định lưới siêu tham số: cung cấp một từ điển với các siêu tham số và danh sách các giá trị muốn thử nghiệm.\n",
    "\n",
    "Cross-validation: Với mỗi tổ hợp siêu tham số, mô hình sẽ được huấn luyện và đánh giá bằng cross-validation (ví dụ cv=5 có nghĩa là chia dữ liệu training data thành 5 phần). Mô hình sẽ được huấn luyện trên 4 phần và kiểm đinh (validation) trên 1 phần (ví dụ như ở split1: mô hình training trên fold2 đến fold5, đánh giá hiệu suất trên fold1), quá trình này lặp lại 5 lần với mỗi tập kiểm định (validation) khác nhau\n",
    "\n",
    "Tính trung bình hiệu suất: Sau khi thực hiện cross-validation cho một tổ hợp siêu tham số, GridSearchCV sẽ tính trung bình hiệu suất (ví dụ độ chính xác) của 5 lần chạy (từ split 1 đến split5).\n",
    "\n",
    "Tập hợp siêu tham số tốt nhất: Cuối cùng, GridSearchCV sẽ lưu trữ tổ hợp siêu tham số tốt nhất cùng với mô hình đã huấn luyện lại trên toàn bộ dữ liệu huấn luyện với siêu tham số đó (nếu refit=True).\n",
    "\n",
    "=> Sau khi dùng GridSearchCV để tìm ra bộ siêu tham số tốt nhất cho mô hình, bộ test data sẽ được sử dụng để đánh giá kết quả cuối cùng cho mô hình"
   ]
  },
  {
   "cell_type": "code",
   "execution_count": 89,
   "metadata": {},
   "outputs": [],
   "source": [
    "\n",
    "\n",
    "class ModelsAI(TypedDict):\n",
    "  MLP: MLPClassifier\n",
    "  LR : LogisticRegression\n",
    "\n",
    "\n",
    "# định nghĩa 2 mô hình muốn so sánh và tuning\n",
    "models: ModelsAI = {\n",
    "  'MLP': MLPClassifier(),\n",
    "  'LR' : LogisticRegression() ,\n",
    "  }\n"
   ]
  },
  {
   "cell_type": "code",
   "execution_count": 94,
   "metadata": {},
   "outputs": [],
   "source": [
    "class ParamsMLP(TypedDict):\n",
    "  hidden_layer_sizes : List[tuple]   # cấu trúc mạng nơ-ron; ảnh hưởng đến khả năng học của mô hình\n",
    "  activation: List[str]               # Hành kích hoạt; quyết định cac nơ-ron kích hoạt và học\n",
    "  solver: List[str]                   # Thuật toán tối ưu hóa ảnh hưởng đến tốc dộ và hiệu quả của quá trính huấn luyện\n",
    "  # alpha: list[int] = []             # Hệ số regularization; ngăn ngừa overfitting.\n",
    "  learning_rate: List[str]            # Tốc độ học; ảnh hưởng đến cách cập nhật trọng số.\n",
    "  # batch_size: List[int]             # Kích thước batch; ảnh hưởng đến hiệu suất và thời gian huấn luyện.\n",
    "  # max_iter: List[str]               # Số vòng lặp tối đa; đảm bảo mô hình hội tụ.\n",
    "\n",
    "params_mlp:ParamsMLP = {\n",
    "  'hidden_layer_sizes': [(3,), (3,3)],\n",
    "  'activation': ['relu' , 'tanh'], #\n",
    "  'solver': ['adam' , 'sgd'],\n",
    "  'learning_rate': ['constant', 'adaptive'],\n",
    "}"
   ]
  },
  {
   "cell_type": "markdown",
   "metadata": {},
   "source": [
    "- hidden_layer_sizes: Xác định cấu trúc của các lớp ẩn trong mạng nơ-ron. Ví dụ, (3,) chỉ một lớp ẩn với 3 nơ-ron, trong khi (3, 3) chỉ hai lớp ẩn, mỗi lớp có 3 nơ-ron.\n",
    "- activation: Xác định hàm kích hoạt cho các lớp ẩn. Hàm kích hoạt quyết định cách các đầu ra của lớp ẩn được tính toán và truyền đến lớp tiếp theo.\n",
    "- solver: Xác định thuật toán tối ưu hóa được sử dụng để cập nhật trọng số của mô hình. adam: Phương pháp tối ưu hóa hiệu quả với tốc độ học tự điều chỉnh và thường hoạt động tốt trong các bài toán học sâu. sgd: Stochastic Gradient Descent là một lựa chọn cơ bản và có thể hữu ích trong các bài toán lớn với việc chọn kích thước batch phù hợp.\n",
    "- alpha: Hệ số điều chỉnh regularization. Regularization giúp ngăn ngừa overfitting bằng cách thêm một khoản phạt vào hàm mất mát.\n",
    "- learning_rate: Xác định cách tốc độ học được điều chỉnh trong quá trình huấn luyện. constant: Tốc độ học cố định giúp dễ dàng kiểm soát tốc độ học và thường là điểm khởi đầu tốt. adaptive: Điều chỉnh tốc độ học khi mô hình học kém hơn và có thể giúp cải thiện hiệu suất nếu tốc độ học cần điều chỉnh trong suốt quá trình huấn luyện.\n",
    "- batch_size: Kích thước batch; ảnh hưởng đến hiệu suất và thời gian huấn luyện.\n",
    "- max_iter: Xác định số vòng lặp tối đa để huấn luyện mô hình. Nếu mô hình không hội tụ sau số vòng lặp này, quá trình huấn luyện sẽ dừng lại."
   ]
  },
  {
   "cell_type": "code",
   "execution_count": 95,
   "metadata": {},
   "outputs": [],
   "source": [
    "class ParamsLR(TypedDict):\n",
    "  C:ndarray[Any, dtype[floating[Any]]]\n",
    "  penalty: List[str]\n",
    "  solver: List[str]\n",
    "\n",
    "params_lr:ParamsLR = {\n",
    "  'C': np.logspace(-2,2, 5),\n",
    "  'penalty': ['l1', 'l2'],\n",
    "  'solver': ['liblinear' , 'saga']\n",
    "}"
   ]
  },
  {
   "cell_type": "markdown",
   "metadata": {},
   "source": [
    "- C: Đây là cường độ điều chỉnh, hay là nghịch đảo của sức mạnh điều chỉnh. Giá trị nhỏ hơn tương ứng với việc điều chỉnh mạnh hơn. Điều chỉnh C giúp cân bằng giữa độ chính xác trên tập huấn luyện và khả năng tổng quát của mô hình. Giá trị nhỏ hơn của C giúp giảm overfitting (bằng cách tăng điều chỉnh), trong khi giá trị lớn hơn có thể dẫn đến overfitting nếu mô hình quá phức tạp.\n",
    "\n",
    "- penalty: Loại hình phạt được áp dụng trong quá trình tối ưu hóa. l1 là hình phạt lasso, giúp chọn lọc biến, và l2 là hình phạt ridge, giúp giảm độ lớn của các hệ số. Hình phạt giúp kiểm soát độ phức tạp của mô hình và giảm nguy cơ overfitting. l1 có thể tạo ra các mô hình đơn giản hơn bằng cách loại bỏ một số đặc trưng, trong khi l2 thường giúp cải thiện khả năng tổng quát bằng cách điều chỉnh toàn bộ các hệ số.\n",
    "\n",
    "- solver: Thuật toán được sử dụng để tối ưu hóa hàm mất mát. liblinear là thuật toán giải tích cho các bài toán nhỏ, trong khi saga là thuật toán tối ưu hóa gradient với hỗ trợ cho cả l1 và l2. Việc chọn solver ảnh hưởng đến tốc độ và hiệu quả của quá trình huấn luyện. liblinear thường được sử dụng cho dữ liệu nhỏ, trong khi saga hoạt động tốt hơn với dữ liệu lớn và hỗ trợ điều chỉnh l1."
   ]
  },
  {
   "cell_type": "code",
   "execution_count": 96,
   "metadata": {},
   "outputs": [],
   "source": [
    "class HyperParamters(TypedDict):\n",
    "  MLP: ParamsMLP\n",
    "  LR: ParamsLR\n",
    "\n",
    "hyper_paramerers:HyperParamters = {\n",
    "  'MLP': params_mlp,\n",
    "  'LR': params_lr\n",
    "}\n"
   ]
  },
  {
   "cell_type": "markdown",
   "metadata": {},
   "source": [
    "GridSearchCV(estimator, param_grid, , scoring=None, n_jobs=None, refit=True, cv=None, verbose=0, pre_dispatch='2n_jobs', error_score=nan, return_train_score=False)\n",
    "\n",
    " - estimator: Đây là mô hình muốn tinh chỉnh\n",
    " - param_grid: Là từ điển chứa các siêu tham số và các giá trị tương ứng muốn thử nghiệm. Đây chính là \"lưới\" siêu tham số mà GridSearchCV sẽ tìm kiếm.\n",
    " - cv: Là số lần cross-validation (số fold) muốn sử dụng. Với cv=5, dữ liệu training sẽ được chia thành 5 tập con (folds), mỗi tập được dùng làm tập kiểm tra một lần và huấn luyện trên 4 tập còn lại.\n",
    " - scoring: Đây là tiêu chí đánh giá mô hình, chẳng hạn như accuracy, precision, recall, f1. Nếu không chỉ định, mặc định sẽ là tiêu chí của mô hình cụ thể, chẳng hạn accuracy với các bài toán phân loại.\n",
    " - n_jobs: Xác định số lượng CPU sử dụng khi chạy tìm kiếm song song. n_jobs=-1 nghĩa là sử dụng tất cả các CPU có sẵn."
   ]
  },
  {
   "cell_type": "code",
   "execution_count": 99,
   "metadata": {},
   "outputs": [
    {
     "name": "stdout",
     "output_type": "stream",
     "text": [
      "Fitting 5 folds for each of 20 candidates, totalling 100 fits\n",
      "Fitting 5 folds for each of 16 candidates, totalling 80 fits\n"
     ]
    },
    {
     "name": "stderr",
     "output_type": "stream",
     "text": [
      "d:\\ai-srv\\.venv\\Lib\\site-packages\\sklearn\\neural_network\\_multilayer_perceptron.py:690: ConvergenceWarning: Stochastic Optimizer: Maximum iterations (200) reached and the optimization hasn't converged yet.\n",
      "  warnings.warn(\n"
     ]
    }
   ],
   "source": [
    "# thực hiện tuning hyperparameters bằng GridSearch\n",
    "from sklearn.model_selection import GridSearchCV\n",
    "\n",
    "class Tuning(TypedDict):\n",
    "  MLP :GridSearchCV\n",
    "  LR: GridSearchCV\n",
    "\n",
    "model_tuning:Tuning = {}\n",
    "\n",
    "for k, v in models.items():\n",
    "  grid_search = GridSearchCV(v , hyper_paramerers[k] , cv=5, n_jobs=12 , scoring=('f1') , return_train_score=True, error_score=0, verbose=3)\n",
    "  grid_search.fit(X_train, y_train)\n",
    "  model_tuning[k] = grid_search"
   ]
  },
  {
   "cell_type": "code",
   "execution_count": 100,
   "metadata": {},
   "outputs": [
    {
     "name": "stdout",
     "output_type": "stream",
     "text": [
      "{'LR': GridSearchCV(cv=5, error_score=0, estimator=LogisticRegression(), n_jobs=12,\n",
      "             param_grid={'C': array([1.e-02, 1.e-01, 1.e+00, 1.e+01, 1.e+02]),\n",
      "                         'penalty': ['l1', 'l2'],\n",
      "                         'solver': ['liblinear', 'saga']},\n",
      "             return_train_score=True, scoring='f1', verbose=3), 'MLP': GridSearchCV(cv=5, error_score=0, estimator=MLPClassifier(), n_jobs=12,\n",
      "             param_grid={'activation': ['relu', 'tanh'],\n",
      "                         'hidden_layer_sizes': [(3,), (3, 3)],\n",
      "                         'learning_rate': ['constant', 'adaptive'],\n",
      "                         'solver': ['adam', 'sgd']},\n",
      "             return_train_score=True, scoring='f1', verbose=3)}\n"
     ]
    }
   ],
   "source": [
    "best_score:List[float] = [\n",
    "  model_tuning['LR'].best_score_,\n",
    "  model_tuning['MLP'].best_score_\n",
    "]\n",
    "\n",
    "print(model_tuning)"
   ]
  },
  {
   "cell_type": "markdown",
   "metadata": {},
   "source": [
    "Nhận xét: MultiLayerPeceptron có best_score nhỏ hơn best_score LogisticRegression => chọn mô hình LogisticRegression vì có hiệu năng tốt hơn (sau khi tinh chỉnh siêu tham số trên 1 số khoảng giá trị thực nghiệm)"
   ]
  },
  {
   "cell_type": "code",
   "execution_count": 101,
   "metadata": {},
   "outputs": [
    {
     "data": {
      "text/plain": [
       "'LR'"
      ]
     },
     "execution_count": 101,
     "metadata": {},
     "output_type": "execute_result"
    }
   ],
   "source": [
    "idx = best_score.index(max(best_score))\n",
    "model_name = list(model_tuning.keys())[idx]\n",
    "model_name"
   ]
  },
  {
   "cell_type": "code",
   "execution_count": 106,
   "metadata": {},
   "outputs": [
    {
     "name": "stdout",
     "output_type": "stream",
     "text": [
      "Accuracy: 1.0, precision: 1.0, recall: 1.0, f1: 1.0\n"
     ]
    }
   ],
   "source": [
    "# Đánh giá model trên trập dữ liệu kiểm tra\n",
    "from sklearn.metrics import f1_score, precision_score, recall_score,accuracy_score\n",
    "\n",
    "\n",
    "best_model =  model_tuning['LR']\n",
    "y_pred =  best_model.predict(X_test)\n",
    "\n",
    "accuracy = accuracy_score(y_test, y_pred)\n",
    "precision = precision_score(y_test, y_pred)\n",
    "recall = recall_score(y_test, y_pred)\n",
    "\n",
    "f1 =f1_score(y_test, y_pred)\n",
    "\n",
    "print (f\"Accuracy: {accuracy}, precision: {precision}, recall: {recall}, f1: {f1}\")\n"
   ]
  },
  {
   "cell_type": "code",
   "execution_count": 107,
   "metadata": {},
   "outputs": [
    {
     "data": {
      "text/plain": [
       "Text(92.25, 0.5, 'truth')"
      ]
     },
     "execution_count": 107,
     "metadata": {},
     "output_type": "execute_result"
    },
    {
     "data": {
      "image/png": "[encoded data removed]",
      "text/plain": [
       "<Figure size 1000x800 with 2 Axes>"
      ]
     },
     "metadata": {},
     "output_type": "display_data"
    }
   ],
   "source": [
    "# ma trận nhầm lẫn\n",
    "from sklearn.metrics import confusion_matrix\n",
    "\n",
    "\n",
    "cfm = confusion_matrix(y_test, y_pred)\n",
    "plt.figure(figsize=(10,8))\n",
    "sns.heatmap(cfm, annot=True)\n",
    "plt.xlabel('predict')\n",
    "plt.ylabel('truth')"
   ]
  },
  {
   "cell_type": "code",
   "execution_count": 111,
   "metadata": {},
   "outputs": [
    {
     "data": {
      "text/plain": [
       "['./models/examdatasetsad.pkl']"
      ]
     },
     "execution_count": 111,
     "metadata": {},
     "output_type": "execute_result"
    }
   ],
   "source": [
    "# lưu lại model thành file để tái sử dụng cho các lần sau\n",
    "import joblib\n",
    "\n",
    "\n",
    "joblib.dump(best_model, './models/examdatasetsad.pkl')"
   ]
  },
  {
   "cell_type": "code",
   "execution_count": 117,
   "metadata": {},
   "outputs": [
    {
     "data": {
      "text/plain": [
       "array([1., 1., 0., 0., 0., 1., 0., 1., 1., 0., 1., 0., 1., 1., 0., 0., 0.,\n",
       "       0., 0., 0., 0., 1., 1., 1., 1., 1., 1., 0., 0., 1., 1., 1., 0., 0.,\n",
       "       1., 0., 0., 1., 0., 1., 0., 0., 0., 0., 0., 1., 1., 1., 1., 1., 1.,\n",
       "       1., 1., 0., 1., 0., 0., 1., 1., 1., 1., 1., 0., 0., 0., 1., 1., 0.,\n",
       "       0., 1., 0., 0., 1., 1., 1., 1., 1., 1., 1., 1., 0., 0., 1., 0., 0.,\n",
       "       0., 0., 1.])"
      ]
     },
     "execution_count": 117,
     "metadata": {},
     "output_type": "execute_result"
    }
   ],
   "source": [
    "# load model từ file và sử dụng\n",
    "clf_from_joblib = joblib.load('./models/examdatasetsad.pkl')\n",
    "clf_from_joblib.predict(X_test)\n"
   ]
  }
 ],
 "metadata": {
  "kernelspec": {
   "display_name": ".venv",
   "language": "python",
   "name": "python3"
  },
  "language_info": {
   "codemirror_mode": {
    "name": "ipython",
    "version": 3
   },
   "file_extension": ".py",
   "mimetype": "text/x-python",
   "name": "python",
   "nbconvert_exporter": "python",
   "pygments_lexer": "ipython3",
   "version": "3.12.3"
  }
 },
 "nbformat": 4,
 "nbformat_minor": 2
}
